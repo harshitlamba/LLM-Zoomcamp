{
 "cells": [
  {
   "cell_type": "code",
   "execution_count": 16,
   "metadata": {},
   "outputs": [],
   "source": [
    "import minsearch\n",
    "import json\n",
    "from openai import OpenAI\n",
    "from dotenv import load_dotenv\n",
    "import os"
   ]
  },
  {
   "cell_type": "code",
   "execution_count": 17,
   "metadata": {},
   "outputs": [
    {
     "data": {
      "text/plain": [
       "True"
      ]
     },
     "execution_count": 17,
     "metadata": {},
     "output_type": "execute_result"
    }
   ],
   "source": [
    "load_dotenv()"
   ]
  },
  {
   "cell_type": "code",
   "execution_count": 18,
   "metadata": {},
   "outputs": [],
   "source": [
    "def prepare_data(path):\n",
    "    with open(path,'r') as f:\n",
    "        docs_raw = json.load(f)\n",
    "\n",
    "    documents = []\n",
    "    for course_dict in docs_raw:\n",
    "        for doc in course_dict['documents']:\n",
    "            doc['course'] = course_dict['course']\n",
    "            documents.append(doc)\n",
    "    return documents"
   ]
  },
  {
   "cell_type": "code",
   "execution_count": 19,
   "metadata": {},
   "outputs": [],
   "source": [
    "def search(query, index):\n",
    "    boost = {'question':3.0} # When we think that one of the text fields is more important than the other - importance is adjusted using number > 1 for more important and < 1 for less importance\n",
    "    filter_dict = {'course':'data-engineering-zoomcamp'}\n",
    "    results = index.search(query=query,boost_dict=boost,num_results=5,filter_dict=filter_dict)\n",
    "    return results"
   ]
  },
  {
   "cell_type": "code",
   "execution_count": 20,
   "metadata": {},
   "outputs": [],
   "source": [
    "def build_prompt(query, search_results):\n",
    "    context = ''\n",
    "    for doc in search_results:\n",
    "        context += f\"section: {doc['section']}\\nquestion: {doc['question']}\\nanswer: {doc['text']}\\n\\n\"\n",
    "    \n",
    "    # Prompt template is usually: Role - Instructions - Context - Query\n",
    "    prompt_template = \"\"\"\n",
    "        You're a course teaching assistant. Answer the QUESTION based on the CONTEXT from the FAQ database. Use only the facts from the CONTEXT when answering the QUESTION. If the CONTEXT doesn't contain\n",
    "        the answer, output NONE\n",
    "    \n",
    "    QUESTION: {query}\n",
    "\n",
    "    CONTEXT: \n",
    "    {context}\n",
    "    \"\"\"\n",
    "\n",
    "    prompt = prompt_template.format(query=query,context=context).strip()\n",
    "    return prompt"
   ]
  },
  {
   "cell_type": "code",
   "execution_count": 24,
   "metadata": {},
   "outputs": [],
   "source": [
    "def llm(prompt, client):\n",
    "    response = client.chat.completions.create(\n",
    "        model = 'gpt-4o-mini',\n",
    "        messages = [{'role':'user','content':prompt}]\n",
    "    )\n",
    "    return response.choices[0].message.content"
   ]
  },
  {
   "cell_type": "code",
   "execution_count": 22,
   "metadata": {},
   "outputs": [],
   "source": [
    "def rag(query, client, index):\n",
    "    search_results = search(query=query,index=index)\n",
    "    prompt = build_prompt(query=query,search_results=search_results)\n",
    "    output = llm(prompt=prompt,client=client)\n",
    "    return output"
   ]
  },
  {
   "cell_type": "code",
   "execution_count": 25,
   "metadata": {},
   "outputs": [
    {
     "name": "stdout",
     "output_type": "stream",
     "text": [
      "Yes, you can still join the course after the start date. However, be aware that there will be deadlines for turning in the final projects.\n"
     ]
    }
   ],
   "source": [
    "query = 'can I enroll in the course after it got started?'\n",
    "OPENAI_API_KEY = os.getenv('OPENAI_API_KEY')\n",
    "client = OpenAI(api_key=OPENAI_API_KEY)\n",
    "\n",
    "documents = prepare_data(path='documents.json')\n",
    "# The keyword_field is used to index the data and the search will be performed based on the question, text and section fields in that index\n",
    "index = minsearch.Index(text_fields=['question','text','section'],keyword_fields=['course'])\n",
    "index.fit(documents)\n",
    "print(rag(query=query,client=client,index=index))"
   ]
  }
 ],
 "metadata": {
  "kernelspec": {
   "display_name": "Python 3 (ipykernel)",
   "language": "python",
   "name": "python3"
  },
  "language_info": {
   "codemirror_mode": {
    "name": "ipython",
    "version": 3
   },
   "file_extension": ".py",
   "mimetype": "text/x-python",
   "name": "python",
   "nbconvert_exporter": "python",
   "pygments_lexer": "ipython3",
   "version": "3.12.1"
  }
 },
 "nbformat": 4,
 "nbformat_minor": 2
}
