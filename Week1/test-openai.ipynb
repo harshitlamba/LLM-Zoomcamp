{
 "cells": [
  {
   "cell_type": "code",
   "execution_count": 9,
   "id": "a39185ce-a549-42fa-90aa-a3ce40e9a78b",
   "metadata": {},
   "outputs": [],
   "source": [
    "import openai\n",
    "from openai import OpenAI\n",
    "import dotenv\n",
    "import os"
   ]
  },
  {
   "cell_type": "code",
   "execution_count": 10,
   "id": "97f1cb06-b700-4b56-aa5a-4970c1cc5a69",
   "metadata": {},
   "outputs": [
    {
     "data": {
      "text/plain": [
       "True"
      ]
     },
     "execution_count": 10,
     "metadata": {},
     "output_type": "execute_result"
    }
   ],
   "source": [
    "dotenv.load_dotenv()"
   ]
  },
  {
   "cell_type": "code",
   "execution_count": 11,
   "id": "a4aa060d-568a-4d3d-8420-c6cefad29a5e",
   "metadata": {},
   "outputs": [],
   "source": [
    "OPENAI_API_KEY = os.getenv(\"OPENAI_API_KEY\")"
   ]
  },
  {
   "cell_type": "code",
   "execution_count": 12,
   "id": "d3ea2832-3591-4925-8e29-8589e8ac67e1",
   "metadata": {},
   "outputs": [],
   "source": [
    "# Initiate a client that can make the API calls\n",
    "client = openai.OpenAI(api_key=OPENAI_API_KEY)"
   ]
  },
  {
   "cell_type": "code",
   "execution_count": 13,
   "id": "87d3deda-20a8-493f-8a09-ed991e856244",
   "metadata": {},
   "outputs": [],
   "source": [
    "response = client.chat.completions.create(\n",
    "    model=\"gpt-3.5-turbo\",\n",
    "    messages=[{\"role\":\"user\",\"content\":\"is ittoo late tojoin the course?\"}]\n",
    ")"
   ]
  },
  {
   "cell_type": "code",
   "execution_count": 14,
   "id": "281c0069-269b-4233-9b28-5ec1a8a1e274",
   "metadata": {},
   "outputs": [
    {
     "data": {
      "text/plain": [
       "\"It depends on the course and the specific circumstances. Some courses may allow late enrollment, while others may have strict deadlines. It's best to contact the course administrator or instructor to inquire about joining after the official start date.\""
      ]
     },
     "execution_count": 14,
     "metadata": {},
     "output_type": "execute_result"
    }
   ],
   "source": [
    "# 'response' is a 'ChatCompletion' type object that has fields like 'id', 'choices', 'created, 'model', 'usage' etc.\n",
    "# 'choices' is a list of alternate responses - we have one for this request and we access this by choices[0]. 'choices' has multiple fields, of which 'message' is the ChatCompletionMessage object\n",
    "#  'message' contains multiple fields such as 'role', 'audio', 'content' etc. 'The 'content' filed contains the text output\n",
    "response.choices[0].message.content"
   ]
  }
 ],
 "metadata": {
  "kernelspec": {
   "display_name": "Python 3 (ipykernel)",
   "language": "python",
   "name": "python3"
  }
 },
 "nbformat": 4,
 "nbformat_minor": 5
}
